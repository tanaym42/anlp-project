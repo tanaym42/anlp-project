#!/usr/bin/env python3

import zreader
import ujson as json



# Adjust chunk_size as necessary -- defaults to 16,384 if not specified
reader = zreader.Zreader("reddit/comments/RC_2005-12.zst", chunk_size=8192)

# Read each line from the reader
for line in reader.readlines():
    obj = json.loads(line)
    print (obj['author'], obj['subreddit'], sep=",")

