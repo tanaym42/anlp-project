{
 "cells": [
  {
   "cell_type": "code",
   "execution_count": 6,
   "metadata": {},
   "outputs": [],
   "source": [
    "from zeader import Zreader\n",
    "import ujson as json"
   ]
  },
  {
   "cell_type": "code",
   "execution_count": 8,
   "metadata": {},
   "outputs": [
    {
     "ename": "NameError",
     "evalue": "name 'zreader' is not defined",
     "output_type": "error",
     "traceback": [
      "\u001b[0;31m---------------------------------------------------------------------------\u001b[0m",
      "\u001b[0;31mNameError\u001b[0m                                 Traceback (most recent call last)",
      "Cell \u001b[0;32mIn[8], line 2\u001b[0m\n\u001b[1;32m      1\u001b[0m \u001b[39m# Adjust chunk_size as necessary -- defaults to 16,384 if not specified\u001b[39;00m\n\u001b[0;32m----> 2\u001b[0m reader \u001b[39m=\u001b[39m zreader\u001b[39m.\u001b[39mZreader(\u001b[39m\"\u001b[39m\u001b[39m/reddit/comments/RC_2005-12.zst\u001b[39m\u001b[39m\"\u001b[39m, chunk_size\u001b[39m=\u001b[39m\u001b[39m8192\u001b[39m)\n\u001b[1;32m      4\u001b[0m \u001b[39m# Read each line from the reader\u001b[39;00m\n\u001b[1;32m      5\u001b[0m \u001b[39mfor\u001b[39;00m line \u001b[39min\u001b[39;00m reader\u001b[39m.\u001b[39mreadlines():\n",
      "\u001b[0;31mNameError\u001b[0m: name 'zreader' is not defined"
     ]
    }
   ],
   "source": [
    "# Adjust chunk_size as necessary -- defaults to 16,384 if not specified\n",
    "reader = zreader.Zreader(\"/reddit/comments/RC_2005-12.zst\", chunk_size=8192)\n",
    "\n",
    "# Read each line from the reader\n",
    "for line in reader.readlines():\n",
    "    obj = json.loads(line)\n",
    "    print (obj['author'], obj['subreddit'], sep=\",\")"
   ]
  }
 ],
 "metadata": {
  "kernelspec": {
   "display_name": "Python 3 (ipykernel)",
   "language": "python",
   "name": "python3"
  },
  "language_info": {
   "codemirror_mode": {
    "name": "ipython",
    "version": 3
   },
   "file_extension": ".py",
   "mimetype": "text/x-python",
   "name": "python",
   "nbconvert_exporter": "python",
   "pygments_lexer": "ipython3",
   "version": "3.9.12"
  }
 },
 "nbformat": 4,
 "nbformat_minor": 2
}
